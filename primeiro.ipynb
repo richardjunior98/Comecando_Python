{
 "cells": [
  {
   "cell_type": "markdown",
   "metadata": {},
   "source": [
    "Aplicando as primeiras functions."
   ]
  },
  {
   "cell_type": "code",
   "execution_count": 11,
   "metadata": {},
   "outputs": [],
   "source": [
    "import pandas as pd\n",
    "import numpy as np"
   ]
  },
  {
   "cell_type": "markdown",
   "metadata": {},
   "source": [
    "Criando uma tabela com nomes e números de telefone."
   ]
  },
  {
   "cell_type": "code",
   "execution_count": 13,
   "metadata": {},
   "outputs": [],
   "source": [
    "dados = [\n",
    "    ['Nome 1','4299999912'],\n",
    "    ['Nome 2','4299999913'],\n",
    "    ['Nome 3','4299999914'],\n",
    "    ['Nome 4','4299999915'],\n",
    "]\n",
    "\n",
    "df=pd.DataFrame(dados,columns=[\"nome\",\"telefone_completo\"])"
   ]
  },
  {
   "cell_type": "markdown",
   "metadata": {},
   "source": [
    "Criando arquivo em Excel com a tabela criada."
   ]
  },
  {
   "cell_type": "code",
   "execution_count": 14,
   "metadata": {},
   "outputs": [],
   "source": [
    "df.to_excel(\"dados.xlsx\",index=False)"
   ]
  },
  {
   "cell_type": "markdown",
   "metadata": {},
   "source": [
    "Ler o arquivo."
   ]
  },
  {
   "cell_type": "code",
   "execution_count": 57,
   "metadata": {},
   "outputs": [],
   "source": [
    "arquivo_lido=pd.read_excel(\"dados.xlsx\")"
   ]
  },
  {
   "cell_type": "markdown",
   "metadata": {},
   "source": [
    "Ler arquivo sem qualquer instância nula para o atributo telefone_completo."
   ]
  },
  {
   "cell_type": "code",
   "execution_count": 58,
   "metadata": {},
   "outputs": [
    {
     "data": {
      "text/html": [
       "<div>\n",
       "<style scoped>\n",
       "    .dataframe tbody tr th:only-of-type {\n",
       "        vertical-align: middle;\n",
       "    }\n",
       "\n",
       "    .dataframe tbody tr th {\n",
       "        vertical-align: top;\n",
       "    }\n",
       "\n",
       "    .dataframe thead th {\n",
       "        text-align: right;\n",
       "    }\n",
       "</style>\n",
       "<table border=\"1\" class=\"dataframe\">\n",
       "  <thead>\n",
       "    <tr style=\"text-align: right;\">\n",
       "      <th></th>\n",
       "      <th>nome</th>\n",
       "      <th>quantidade</th>\n",
       "      <th>cidades</th>\n",
       "    </tr>\n",
       "  </thead>\n",
       "  <tbody>\n",
       "    <tr>\n",
       "      <th>0</th>\n",
       "      <td>Nome 1</td>\n",
       "      <td>1</td>\n",
       "      <td>cidade 1</td>\n",
       "    </tr>\n",
       "    <tr>\n",
       "      <th>1</th>\n",
       "      <td>Nome 3</td>\n",
       "      <td>1</td>\n",
       "      <td>cidade 1</td>\n",
       "    </tr>\n",
       "    <tr>\n",
       "      <th>2</th>\n",
       "      <td>Nome 4</td>\n",
       "      <td>1</td>\n",
       "      <td>cidade 1</td>\n",
       "    </tr>\n",
       "    <tr>\n",
       "      <th>3</th>\n",
       "      <td>Nome 5</td>\n",
       "      <td>1</td>\n",
       "      <td>cidade 2</td>\n",
       "    </tr>\n",
       "    <tr>\n",
       "      <th>4</th>\n",
       "      <td>Nome 6</td>\n",
       "      <td>2</td>\n",
       "      <td>cidade 2, cidade 2</td>\n",
       "    </tr>\n",
       "  </tbody>\n",
       "</table>\n",
       "</div>"
      ],
      "text/plain": [
       "     nome  quantidade             cidades\n",
       "0  Nome 1           1            cidade 1\n",
       "1  Nome 3           1            cidade 1\n",
       "2  Nome 4           1            cidade 1\n",
       "3  Nome 5           1            cidade 2\n",
       "4  Nome 6           2  cidade 2, cidade 2"
      ]
     },
     "execution_count": 58,
     "metadata": {},
     "output_type": "execute_result"
    }
   ],
   "source": [
    "(\n",
    "    arquivo_lido\n",
    "    .query(\"~telefone_completo.isna()\")\n",
    "    .assign(telefone_texto= lambda df : df[\"telefone_completo\"].astype(str))\n",
    "    .assign(telefone_texto= lambda df : df[\"telefone_texto\"].str.replace(\".0\",\"\"))\n",
    "    .groupby([\"nome\"], as_index=False).agg(\n",
    "        quantidade = (\"nome\", np.count_nonzero),\n",
    "        cidades = (\"cidade\", lambda x : \", \".join(x))\n",
    "    )\n",
    "    #query(\"~nome.isna() and nome.str.contains('3')\")\n",
    " )"
   ]
  }
 ],
 "metadata": {
  "kernelspec": {
   "display_name": "Python 3",
   "language": "python",
   "name": "python3"
  },
  "language_info": {
   "codemirror_mode": {
    "name": "ipython",
    "version": 3
   },
   "file_extension": ".py",
   "mimetype": "text/x-python",
   "name": "python",
   "nbconvert_exporter": "python",
   "pygments_lexer": "ipython3",
   "version": "3.11.3"
  }
 },
 "nbformat": 4,
 "nbformat_minor": 2
}
